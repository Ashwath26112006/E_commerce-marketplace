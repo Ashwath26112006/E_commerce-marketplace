{
  "cells": [
    {
      "cell_type": "markdown",
      "metadata": {
        "id": "view-in-github",
        "colab_type": "text"
      },
      "source": [
        "<a href=\"https://colab.research.google.com/github/Ashwath26112006/E_commerce-marketplace/blob/main/Electronic_Commerce_Marketplacet.ipynb\" target=\"_parent\"><img src=\"https://colab.research.google.com/assets/colab-badge.svg\" alt=\"Open In Colab\"/></a>"
      ]
    },
    {
      "cell_type": "code",
      "execution_count": null,
      "metadata": {
        "colab": {
          "background_save": true,
          "base_uri": "https://localhost:8080/"
        },
        "id": "KflIeS094GgS",
        "outputId": "8ba6fa9e-5917-4c18-e5fb-96606c644579"
      },
      "outputs": [
        {
          "name": "stdout",
          "output_type": "stream",
          "text": [
            "Requirement already satisfied: django in /usr/local/lib/python3.11/dist-packages (5.1.6)\n",
            "Requirement already satisfied: djangorestframework in /usr/local/lib/python3.11/dist-packages (3.15.2)\n",
            "Requirement already satisfied: django-filter in /usr/local/lib/python3.11/dist-packages (25.1)\n",
            "Requirement already satisfied: asgiref<4,>=3.8.1 in /usr/local/lib/python3.11/dist-packages (from django) (3.8.1)\n",
            "Requirement already satisfied: sqlparse>=0.3.1 in /usr/local/lib/python3.11/dist-packages (from django) (0.5.3)\n",
            "/content/ecommerce_marketplace/ecommerce_marketplace/ecommerce_marketplace/ecommerce_marketplace/ecommerce_marketplace\n",
            "No changes detected\n",
            "\u001b[36;1mOperations to perform:\u001b[0m\n",
            "\u001b[1m  Apply all migrations: \u001b[0madmin, auth, contenttypes, sessions\n",
            "\u001b[36;1mRunning migrations:\u001b[0m\n",
            "  Applying contenttypes.0001_initial...\u001b[32;1m OK\u001b[0m\n",
            "  Applying auth.0001_initial...\u001b[32;1m OK\u001b[0m\n",
            "  Applying admin.0001_initial...\u001b[32;1m OK\u001b[0m\n",
            "  Applying admin.0002_logentry_remove_auto_add...\u001b[32;1m OK\u001b[0m\n",
            "  Applying admin.0003_logentry_add_action_flag_choices...\u001b[32;1m OK\u001b[0m\n",
            "  Applying contenttypes.0002_remove_content_type_name...\u001b[32;1m OK\u001b[0m\n",
            "  Applying auth.0002_alter_permission_name_max_length...\u001b[32;1m OK\u001b[0m\n",
            "  Applying auth.0003_alter_user_email_max_length...\u001b[32;1m OK\u001b[0m\n",
            "  Applying auth.0004_alter_user_username_opts...\u001b[32;1m OK\u001b[0m\n",
            "  Applying auth.0005_alter_user_last_login_null...\u001b[32;1m OK\u001b[0m\n",
            "  Applying auth.0006_require_contenttypes_0002...\u001b[32;1m OK\u001b[0m\n",
            "  Applying auth.0007_alter_validators_add_error_messages...\u001b[32;1m OK\u001b[0m\n",
            "  Applying auth.0008_alter_user_username_max_length...\u001b[32;1m OK\u001b[0m\n",
            "  Applying auth.0009_alter_user_last_name_max_length...\u001b[32;1m OK\u001b[0m\n",
            "  Applying auth.0010_alter_group_name_max_length...\u001b[32;1m OK\u001b[0m\n",
            "  Applying auth.0011_update_proxy_permissions...\u001b[32;1m OK\u001b[0m\n",
            "  Applying auth.0012_alter_user_first_name_max_length...\u001b[32;1m OK\u001b[0m\n",
            "  Applying sessions.0001_initial...\u001b[32;1m OK\u001b[0m\n",
            "Watching for file changes with StatReloader\n",
            "Performing system checks...\n",
            "\n",
            "System check identified no issues (0 silenced).\n",
            "March 05, 2025 - 05:56:54\n",
            "Django version 5.1.6, using settings 'ecommerce_marketplace.settings'\n",
            "Starting development server at http://0.0.0.0:8000/\n",
            "Quit the server with CONTROL-C.\n",
            "\n"
          ]
        }
      ],
      "source": [
        "!pip install django djangorestframework django-filter\n",
        "\n",
        "import os\n",
        "import sys\n",
        "from google.colab import output\n",
        "\n",
        "# Set up the Django project structure\n",
        "!django-admin startproject ecommerce_marketplace\n",
        "%cd ecommerce_marketplace\n",
        "!python manage.py startapp api\n",
        "\n",
        "# Add the project root to the Python path\n",
        "sys.path.append('/content/ecommerce_marketplace')\n",
        "\n",
        "# Set Django settings module\n",
        "os.environ['DJANGO_SETTINGS_MODULE'] = 'ecommerce_marketplace.settings'\n",
        "\n",
        "# Modify settings.py to allow Colab host\n",
        "settings_path = 'ecommerce_marketplace/settings.py'\n",
        "with open(settings_path, 'r') as file:\n",
        "    settings = file.read()\n",
        "\n",
        "settings = settings.replace(\"ALLOWED_HOSTS = []\", \"ALLOWED_HOSTS = ['*']\")\n",
        "\n",
        "with open(settings_path, 'w') as file:\n",
        "    file.write(settings)\n",
        "\n",
        "# Run migrations\n",
        "!python manage.py makemigrations\n",
        "!python manage.py migrate\n",
        "\n",
        "# Create superuser\n",
        "!echo \"from django.contrib.auth.models import User; User.objects.create_superuser('admin', 'admin@example.com', 'adminpassword') if not User.objects.filter(username='admin').exists() else None\" | python manage.py shell\n",
        "\n",
        "# Start the server\n",
        "port = 8000\n",
        "!python manage.py runserver 0.0.0.0:$port &\n",
        "\n",
        "# Generate the Colab-compatible URL\n",
        "url = output.eval_js(\"google.colab.kernel.proxyPort({})\".format(port))\n",
        "print(f\"Your Django server is running at: {url}\")\n"
      ]
    }
  ],
  "metadata": {
    "colab": {
      "provenance": [],
      "authorship_tag": "ABX9TyMMrWaHGcmQSEYwaPOVl1DD",
      "include_colab_link": true
    },
    "kernelspec": {
      "display_name": "Python 3",
      "name": "python3"
    },
    "language_info": {
      "name": "python"
    }
  },
  "nbformat": 4,
  "nbformat_minor": 0
}